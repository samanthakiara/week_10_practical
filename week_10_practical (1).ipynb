{
 "cells": [
  {
   "cell_type": "code",
   "execution_count": 10,
   "id": "be7bf9d4",
   "metadata": {
    "scrolled": true
   },
   "outputs": [],
   "source": [
    "library(tidyverse)\n",
    "library(geometry)"
   ]
  },
  {
   "cell_type": "markdown",
   "id": "c47d8211",
   "metadata": {},
   "source": [
    "## Question 1 - Create Variables + Data Frame"
   ]
  },
  {
   "cell_type": "code",
   "execution_count": 11,
   "id": "be875049",
   "metadata": {
    "scrolled": true
   },
   "outputs": [
    {
     "data": {
      "text/html": [
       "0.205883428200913"
      ],
      "text/latex": [
       "0.205883428200913"
      ],
      "text/markdown": [
       "0.205883428200913"
      ],
      "text/plain": [
       "[1] 0.2058834"
      ]
     },
     "metadata": {},
     "output_type": "display_data"
    },
    {
     "data": {
      "text/html": [
       "0.923305579328867"
      ],
      "text/latex": [
       "0.923305579328867"
      ],
      "text/markdown": [
       "0.923305579328867"
      ],
      "text/plain": [
       "[1] 0.9233056"
      ]
     },
     "metadata": {},
     "output_type": "display_data"
    },
    {
     "data": {
      "text/html": [
       "-0.0404892692213962"
      ],
      "text/latex": [
       "-0.0404892692213962"
      ],
      "text/markdown": [
       "-0.0404892692213962"
      ],
      "text/plain": [
       "[1] -0.04048927"
      ]
     },
     "metadata": {},
     "output_type": "display_data"
    }
   ],
   "source": [
    "set.seed(246)\n",
    "W = rnorm(10, 2, 1)\n",
    "X = rnorm(10, 3, 1)\n",
    "cor(W,X)\n",
    "Y = rnorm(10, 5, 1)\n",
    "noise = rnorm(10, 3, 3)\n",
    "Z = 0.5*Y^2 + noise\n",
    "cor(Y,Z)\n",
    "cor(X,Y)"
   ]
  },
  {
   "cell_type": "code",
   "execution_count": 12,
   "id": "cb7781e5",
   "metadata": {
    "scrolled": false
   },
   "outputs": [
    {
     "data": {
      "text/html": [
       "<table>\n",
       "<thead><tr><th scope=col>W</th><th scope=col>X</th><th scope=col>Y</th><th scope=col>Z</th></tr></thead>\n",
       "<tbody>\n",
       "\t<tr><td>2.5333613</td><td>3.248837 </td><td>5.337890 </td><td>20.841962</td></tr>\n",
       "\t<tr><td>2.2511561</td><td>4.064831 </td><td>6.348440 </td><td>23.089267</td></tr>\n",
       "\t<tr><td>1.7100798</td><td>2.712970 </td><td>6.874303 </td><td>26.844111</td></tr>\n",
       "\t<tr><td>0.5164671</td><td>3.630170 </td><td>5.285872 </td><td>14.301770</td></tr>\n",
       "\t<tr><td>2.0340309</td><td>2.898615 </td><td>3.717068 </td><td> 6.017628</td></tr>\n",
       "\t<tr><td>3.3439503</td><td>5.984700 </td><td>4.547987 </td><td>14.926498</td></tr>\n",
       "</tbody>\n",
       "</table>\n"
      ],
      "text/latex": [
       "\\begin{tabular}{r|llll}\n",
       " W & X & Y & Z\\\\\n",
       "\\hline\n",
       "\t 2.5333613 & 3.248837  & 5.337890  & 20.841962\\\\\n",
       "\t 2.2511561 & 4.064831  & 6.348440  & 23.089267\\\\\n",
       "\t 1.7100798 & 2.712970  & 6.874303  & 26.844111\\\\\n",
       "\t 0.5164671 & 3.630170  & 5.285872  & 14.301770\\\\\n",
       "\t 2.0340309 & 2.898615  & 3.717068  &  6.017628\\\\\n",
       "\t 3.3439503 & 5.984700  & 4.547987  & 14.926498\\\\\n",
       "\\end{tabular}\n"
      ],
      "text/markdown": [
       "\n",
       "| W | X | Y | Z |\n",
       "|---|---|---|---|\n",
       "| 2.5333613 | 3.248837  | 5.337890  | 20.841962 |\n",
       "| 2.2511561 | 4.064831  | 6.348440  | 23.089267 |\n",
       "| 1.7100798 | 2.712970  | 6.874303  | 26.844111 |\n",
       "| 0.5164671 | 3.630170  | 5.285872  | 14.301770 |\n",
       "| 2.0340309 | 2.898615  | 3.717068  |  6.017628 |\n",
       "| 3.3439503 | 5.984700  | 4.547987  | 14.926498 |\n",
       "\n"
      ],
      "text/plain": [
       "  W         X        Y        Z        \n",
       "1 2.5333613 3.248837 5.337890 20.841962\n",
       "2 2.2511561 4.064831 6.348440 23.089267\n",
       "3 1.7100798 2.712970 6.874303 26.844111\n",
       "4 0.5164671 3.630170 5.285872 14.301770\n",
       "5 2.0340309 2.898615 3.717068  6.017628\n",
       "6 3.3439503 5.984700 4.547987 14.926498"
      ]
     },
     "metadata": {},
     "output_type": "display_data"
    }
   ],
   "source": [
    "random_data = data.frame(W, X, Y, Z)\n",
    "head(random_data)"
   ]
  },
  {
   "cell_type": "markdown",
   "id": "e3c0a130",
   "metadata": {},
   "source": [
    "## Question 2 - Generate Variable Outcome"
   ]
  },
  {
   "cell_type": "code",
   "execution_count": 42,
   "id": "c954967c",
   "metadata": {},
   "outputs": [
    {
     "data": {
      "text/html": [
       "<ol class=list-inline>\n",
       "\t<li>113.412553297244</li>\n",
       "\t<li>126.783206104801</li>\n",
       "\t<li>140.135369368753</li>\n",
       "\t<li>85.8415032458456</li>\n",
       "\t<li>48.0529777642022</li>\n",
       "\t<li>93.6633046954528</li>\n",
       "\t<li>71.7998503346172</li>\n",
       "\t<li>76.0780295334239</li>\n",
       "\t<li>72.7785220657756</li>\n",
       "\t<li>98.3470122358882</li>\n",
       "</ol>\n"
      ],
      "text/latex": [
       "\\begin{enumerate*}\n",
       "\\item 113.412553297244\n",
       "\\item 126.783206104801\n",
       "\\item 140.135369368753\n",
       "\\item 85.8415032458456\n",
       "\\item 48.0529777642022\n",
       "\\item 93.6633046954528\n",
       "\\item 71.7998503346172\n",
       "\\item 76.0780295334239\n",
       "\\item 72.7785220657756\n",
       "\\item 98.3470122358882\n",
       "\\end{enumerate*}\n"
      ],
      "text/markdown": [
       "1. 113.412553297244\n",
       "2. 126.783206104801\n",
       "3. 140.135369368753\n",
       "4. 85.8415032458456\n",
       "5. 48.0529777642022\n",
       "6. 93.6633046954528\n",
       "7. 71.7998503346172\n",
       "8. 76.0780295334239\n",
       "9. 72.7785220657756\n",
       "10. 98.3470122358882\n",
       "\n",
       "\n"
      ],
      "text/plain": [
       " [1] 113.41255 126.78321 140.13537  85.84150  48.05298  93.66330  71.79985\n",
       " [8]  76.07803  72.77852  98.34701"
      ]
     },
     "metadata": {},
     "output_type": "display_data"
    }
   ],
   "source": [
    "outcome = 5 + 1 * W + 2 * X + 3 * Y + 4 * Z\n",
    "outcome"
   ]
  },
  {
   "cell_type": "markdown",
   "id": "d85f959d",
   "metadata": {},
   "source": [
    "## Question 3 - Model Outcome"
   ]
  },
  {
   "cell_type": "code",
   "execution_count": 44,
   "id": "3b61df22",
   "metadata": {},
   "outputs": [
    {
     "data": {
      "text/plain": [
       "\n",
       "Call:\n",
       "lm(formula = W ~ (.)^2, data = random_data)\n",
       "\n",
       "Residuals:\n",
       "      1       2       3       4       5       6       7       8       9      10 \n",
       "-0.4338  0.2153  0.1258 -0.8586 -0.6948  0.1393  0.7976  0.2038  0.8292 -0.3238 \n",
       "\n",
       "Coefficients:\n",
       "            Estimate Std. Error t value Pr(>|t|)\n",
       "(Intercept) 15.67126   15.26737   1.026    0.380\n",
       "X           -1.30329    3.12298  -0.417    0.705\n",
       "Y           -4.25014    4.36399  -0.974    0.402\n",
       "Z            0.28483    0.49628   0.574    0.606\n",
       "X:Y          0.47430    0.83964   0.565    0.612\n",
       "X:Z         -0.05274    0.10640  -0.496    0.654\n",
       "Y:Z          0.03259    0.06243   0.522    0.638\n",
       "\n",
       "Residual standard error: 0.9933 on 3 degrees of freedom\n",
       "Multiple R-squared:  0.5374,\tAdjusted R-squared:  -0.3877 \n",
       "F-statistic: 0.5809 on 6 and 3 DF,  p-value: 0.7386\n"
      ]
     },
     "metadata": {},
     "output_type": "display_data"
    }
   ],
   "source": [
    "model = lm(W ~ (.)^2, data = random_data)\n",
    "summary(model)"
   ]
  },
  {
   "cell_type": "markdown",
   "id": "7c1c80f4",
   "metadata": {},
   "source": [
    "## Question 4 - Run PCA"
   ]
  },
  {
   "cell_type": "code",
   "execution_count": 45,
   "id": "ed88f414",
   "metadata": {
    "scrolled": true
   },
   "outputs": [
    {
     "data": {
      "text/plain": [
       "Importance of components:\n",
       "                          PC1    PC2    PC3     PC4\n",
       "Standard deviation     1.4531 1.0354 0.8795 0.20721\n",
       "Proportion of Variance 0.5279 0.2680 0.1934 0.01073\n",
       "Cumulative Proportion  0.5279 0.7959 0.9893 1.00000"
      ]
     },
     "metadata": {},
     "output_type": "display_data"
    }
   ],
   "source": [
    "res_pca = prcomp(random_data, scale=TRUE)\n",
    "summary(res_pca)"
   ]
  },
  {
   "cell_type": "code",
   "execution_count": 15,
   "id": "a8a69383",
   "metadata": {},
   "outputs": [
    {
     "name": "stdout",
     "output_type": "stream",
     "text": [
      "List of 5\n",
      " $ sdev    : num [1:4] 1.453 1.035 0.879 0.207\n",
      " $ rotation: num [1:4, 1:4] -0.373 -0.158 0.663 0.63 -0.47 ...\n",
      "  ..- attr(*, \"dimnames\")=List of 2\n",
      "  .. ..$ : chr [1:4] \"W\" \"X\" \"Y\" \"Z\"\n",
      "  .. ..$ : chr [1:4] \"PC1\" \"PC2\" \"PC3\" \"PC4\"\n",
      " $ center  : Named num [1:4] 2.34 3.66 5.09 15.69\n",
      "  ..- attr(*, \"names\")= chr [1:4] \"W\" \"X\" \"Y\" \"Z\"\n",
      " $ scale   : Named num [1:4] 0.843 1.323 0.946 6.401\n",
      "  ..- attr(*, \"names\")= chr [1:4] \"W\" \"X\" \"Y\" \"Z\"\n",
      " $ x       : num [1:10, 1:4] 0.645 1.602 2.74 0.813 -1.685 ...\n",
      "  ..- attr(*, \"dimnames\")=List of 2\n",
      "  .. ..$ : NULL\n",
      "  .. ..$ : chr [1:4] \"PC1\" \"PC2\" \"PC3\" \"PC4\"\n",
      " - attr(*, \"class\")= chr \"prcomp\"\n"
     ]
    }
   ],
   "source": [
    "str(res_pca)"
   ]
  },
  {
   "cell_type": "code",
   "execution_count": 16,
   "id": "2343a442",
   "metadata": {},
   "outputs": [
    {
     "data": {
      "text/html": [
       "<table>\n",
       "<thead><tr><th></th><th scope=col>PC1</th><th scope=col>PC2</th><th scope=col>PC3</th><th scope=col>PC4</th></tr></thead>\n",
       "<tbody>\n",
       "\t<tr><th scope=row>W</th><td>-0.3732856 </td><td>-0.4702490 </td><td>-0.77718127</td><td> 0.18844898</td></tr>\n",
       "\t<tr><th scope=row>X</th><td>-0.1579991 </td><td>-0.8164196 </td><td> 0.54813990</td><td>-0.08965426</td></tr>\n",
       "\t<tr><th scope=row>Y</th><td> 0.6628221 </td><td>-0.2162086 </td><td>-0.01374078</td><td> 0.71675094</td></tr>\n",
       "\t<tr><th scope=row>Z</th><td> 0.6295721 </td><td>-0.2560834 </td><td>-0.30877680</td><td>-0.66536996</td></tr>\n",
       "</tbody>\n",
       "</table>\n"
      ],
      "text/latex": [
       "\\begin{tabular}{r|llll}\n",
       "  & PC1 & PC2 & PC3 & PC4\\\\\n",
       "\\hline\n",
       "\tW & -0.3732856  & -0.4702490  & -0.77718127 &  0.18844898\\\\\n",
       "\tX & -0.1579991  & -0.8164196  &  0.54813990 & -0.08965426\\\\\n",
       "\tY &  0.6628221  & -0.2162086  & -0.01374078 &  0.71675094\\\\\n",
       "\tZ &  0.6295721  & -0.2560834  & -0.30877680 & -0.66536996\\\\\n",
       "\\end{tabular}\n"
      ],
      "text/markdown": [
       "\n",
       "| <!--/--> | PC1 | PC2 | PC3 | PC4 |\n",
       "|---|---|---|---|---|\n",
       "| W | -0.3732856  | -0.4702490  | -0.77718127 |  0.18844898 |\n",
       "| X | -0.1579991  | -0.8164196  |  0.54813990 | -0.08965426 |\n",
       "| Y |  0.6628221  | -0.2162086  | -0.01374078 |  0.71675094 |\n",
       "| Z |  0.6295721  | -0.2560834  | -0.30877680 | -0.66536996 |\n",
       "\n"
      ],
      "text/plain": [
       "  PC1        PC2        PC3         PC4        \n",
       "W -0.3732856 -0.4702490 -0.77718127  0.18844898\n",
       "X -0.1579991 -0.8164196  0.54813990 -0.08965426\n",
       "Y  0.6628221 -0.2162086 -0.01374078  0.71675094\n",
       "Z  0.6295721 -0.2560834 -0.30877680 -0.66536996"
      ]
     },
     "metadata": {},
     "output_type": "display_data"
    }
   ],
   "source": [
    "res_pca$rotation"
   ]
  },
  {
   "cell_type": "code",
   "execution_count": 17,
   "id": "80c3d0e0",
   "metadata": {},
   "outputs": [
    {
     "data": {
      "text/html": [
       "<ol class=list-inline>\n",
       "\t<li>2.1115695880109</li>\n",
       "\t<li>1.07202373822464</li>\n",
       "\t<li>0.773468870187076</li>\n",
       "\t<li>0.0429378035773823</li>\n",
       "</ol>\n"
      ],
      "text/latex": [
       "\\begin{enumerate*}\n",
       "\\item 2.1115695880109\n",
       "\\item 1.07202373822464\n",
       "\\item 0.773468870187076\n",
       "\\item 0.0429378035773823\n",
       "\\end{enumerate*}\n"
      ],
      "text/markdown": [
       "1. 2.1115695880109\n",
       "2. 1.07202373822464\n",
       "3. 0.773468870187076\n",
       "4. 0.0429378035773823\n",
       "\n",
       "\n"
      ],
      "text/plain": [
       "[1] 2.1115696 1.0720237 0.7734689 0.0429378"
      ]
     },
     "metadata": {},
     "output_type": "display_data"
    }
   ],
   "source": [
    "res_pca$sdev^2"
   ]
  },
  {
   "cell_type": "code",
   "execution_count": 18,
   "id": "ff0b63c1",
   "metadata": {
    "scrolled": true
   },
   "outputs": [
    {
     "data": {
      "text/html": [
       "-0.157999144251912"
      ],
      "text/latex": [
       "-0.157999144251912"
      ],
      "text/markdown": [
       "-0.157999144251912"
      ],
      "text/plain": [
       "[1] -0.1579991"
      ]
     },
     "metadata": {},
     "output_type": "display_data"
    }
   ],
   "source": [
    "res_pca$rotation[2,1]"
   ]
  },
  {
   "cell_type": "markdown",
   "id": "65fd903e",
   "metadata": {},
   "source": [
    "## Question 5 - Run Bi-Plot"
   ]
  },
  {
   "cell_type": "code",
   "execution_count": 30,
   "id": "14b3e36c",
   "metadata": {},
   "outputs": [
    {
     "name": "stderr",
     "output_type": "stream",
     "text": [
      "Warning message:\n",
      "“package ‘factoextra’ was built under R version 3.6.3”Welcome! Want to learn more? See two factoextra-related books at https://goo.gl/ve3WBa\n"
     ]
    }
   ],
   "source": [
    "library(factoextra)"
   ]
  },
  {
   "cell_type": "code",
   "execution_count": 31,
   "id": "38850f71",
   "metadata": {},
   "outputs": [
    {
     "data": {
      "image/png": "[encoded data removed]",
      "text/plain": [
       "plot without title"
      ]
     },
     "metadata": {},
     "output_type": "display_data"
    }
   ],
   "source": [
    "fviz_pca_biplot(res_pca)"
   ]
  },
  {
   "cell_type": "markdown",
   "id": "6b57277b",
   "metadata": {},
   "source": [
    "## Question 6 - Efficiency\n",
    "\n",
    "How efficient is the new lower-dimensional space representation at predicting the outcome?  Do your results match your model params?"
   ]
  },
  {
   "cell_type": "code",
   "execution_count": 35,
   "id": "862a9838",
   "metadata": {},
   "outputs": [],
   "source": [
    "## Yes!  PC1 proportion of variance = 0.5279, PC2 proportion of variance = 0.2680"
   ]
  }
 ],
 "metadata": {
  "kernelspec": {
   "display_name": "R",
   "language": "R",
   "name": "ir"
  },
  "language_info": {
   "codemirror_mode": "r",
   "file_extension": ".r",
   "mimetype": "text/x-r-source",
   "name": "R",
   "pygments_lexer": "r",
   "version": "3.6.1"
  }
 },
 "nbformat": 4,
 "nbformat_minor": 5
}
